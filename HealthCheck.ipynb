{
  "nbformat": 4,
  "nbformat_minor": 0,
  "metadata": {
    "colab": {
      "provenance": [],
      "authorship_tag": "ABX9TyMv/In8/sgAjiLCNwRB+KJ0",
      "include_colab_link": true
    },
    "kernelspec": {
      "name": "python3",
      "display_name": "Python 3"
    },
    "language_info": {
      "name": "python"
    }
  },
  "cells": [
    {
      "cell_type": "markdown",
      "metadata": {
        "id": "view-in-github",
        "colab_type": "text"
      },
      "source": [
        "<a href=\"https://colab.research.google.com/github/shraddhapandey100/Python_Practice_With_Colab/blob/paneltime/HealthCheck.ipynb\" target=\"_parent\"><img src=\"https://colab.research.google.com/assets/colab-badge.svg\" alt=\"Open In Colab\"/></a>"
      ]
    },
    {
      "cell_type": "markdown",
      "source": [
        "**Interaction with OS **\n",
        "Health check "
      ],
      "metadata": {
        "id": "0F4C7-k25qMi"
      }
    },
    {
      "cell_type": "code",
      "source": [
        "#!/usr/bin/env python3\n",
        "import psutil\n",
        "import shutil\n",
        "\n",
        "def check_disk_usage(disk):\n",
        "  du = shutil.disk_usage(disk)\n",
        "  free= (du.free /du.total) * 100\n",
        "  return free >20\n",
        "\n",
        "def check_cpu_usage():\n",
        "  usage = psutil.cpu_percent(1)\n",
        "  return usage<75\n",
        "\n",
        "if not check_disk_usage(\"/\") or not check_cpu_usage():\n",
        "  print(\"Error!\")\n",
        "else:\n",
        "  print(\"Everything is OK!\")\n"
      ],
      "metadata": {
        "colab": {
          "base_uri": "https://localhost:8080/"
        },
        "id": "b--iz4N45zf8",
        "outputId": "b4225fd1-cea5-4785-f42e-25da6320fb39"
      },
      "execution_count": 5,
      "outputs": [
        {
          "output_type": "stream",
          "name": "stdout",
          "text": [
            "Everything is OK!\n"
          ]
        }
      ]
    },
    {
      "cell_type": "code",
      "source": [],
      "metadata": {
        "id": "mOsN3_GL7KpT"
      },
      "execution_count": null,
      "outputs": []
    }
  ]
}