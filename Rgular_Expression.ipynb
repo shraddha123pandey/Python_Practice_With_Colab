{
  "nbformat": 4,
  "nbformat_minor": 0,
  "metadata": {
    "colab": {
      "provenance": [],
      "collapsed_sections": [],
      "authorship_tag": "ABX9TyPcj1jkUUN0LCx0EK0P8J15",
      "include_colab_link": true
    },
    "kernelspec": {
      "name": "python3",
      "display_name": "Python 3"
    },
    "language_info": {
      "name": "python"
    }
  },
  "cells": [
    {
      "cell_type": "markdown",
      "metadata": {
        "id": "view-in-github",
        "colab_type": "text"
      },
      "source": [
        "<a href=\"https://colab.research.google.com/github/shraddhapandey100/Python_Practice_With_Colab/blob/paneltime/Rgular_Expression.ipynb\" target=\"_parent\"><img src=\"https://colab.research.google.com/assets/colab-badge.svg\" alt=\"Open In Colab\"/></a>"
      ]
    },
    {
      "cell_type": "markdown",
      "source": [
        "What are all the four-letter word in a file."
      ],
      "metadata": {
        "id": "isiDYtioCLCm"
      }
    },
    {
      "cell_type": "code",
      "execution_count": null,
      "metadata": {
        "colab": {
          "base_uri": "https://localhost:8080/"
        },
        "id": "mUA8ULubBeRV",
        "outputId": "bce7c514-e3da-4ed7-cb6f-2437d13766bb"
      },
      "outputs": [
        {
          "output_type": "stream",
          "name": "stdout",
          "text": [
            "12345\n"
          ]
        }
      ],
      "source": [
        "import re\n",
        "log= \"july 31 07:51:48 my computer bad process [12345]: Error performing package upgrade.\"\n",
        "regex = r\"\\[(\\d+)\\]\"\n",
        "result = re.search(regex,log)\n",
        "print(result[1])"
      ]
    },
    {
      "cell_type": "markdown",
      "source": [
        "Always use raw string for regular expressions in python."
      ],
      "metadata": {
        "id": "2JP3c49VC9Ix"
      }
    },
    {
      "cell_type": "code",
      "source": [
        "import re\n",
        "result= re.search(r\"aza\",\"plaza\")\n",
        "print(result)"
      ],
      "metadata": {
        "id": "ZHbeVHLBC66O",
        "colab": {
          "base_uri": "https://localhost:8080/"
        },
        "outputId": "4e6974e9-bf52-4196-deb4-fbe04c607fff"
      },
      "execution_count": null,
      "outputs": [
        {
          "output_type": "stream",
          "name": "stdout",
          "text": [
            "<re.Match object; span=(2, 5), match='aza'>\n"
          ]
        }
      ]
    },
    {
      "cell_type": "code",
      "source": [
        "print(re.search(r\"^x\",\"xenon\"))"
      ],
      "metadata": {
        "id": "czFjBigyDqJe",
        "colab": {
          "base_uri": "https://localhost:8080/"
        },
        "outputId": "1a0d3cfd-d83c-422d-f3c2-0c1ba9c1e045"
      },
      "execution_count": null,
      "outputs": [
        {
          "output_type": "stream",
          "name": "stdout",
          "text": [
            "<re.Match object; span=(0, 1), match='x'>\n"
          ]
        }
      ]
    },
    {
      "cell_type": "code",
      "source": [
        "print(re.search(r\"p.ng\",\"penguin\"))"
      ],
      "metadata": {
        "colab": {
          "base_uri": "https://localhost:8080/"
        },
        "id": "zcuWraFyDtEO",
        "outputId": "39b056dd-043b-4f8b-813e-1a15ddafd6b5"
      },
      "execution_count": null,
      "outputs": [
        {
          "output_type": "stream",
          "name": "stdout",
          "text": [
            "<re.Match object; span=(0, 4), match='peng'>\n"
          ]
        }
      ]
    },
    {
      "cell_type": "markdown",
      "source": [
        "Find the code to check if the text passed contains the vovel a,e and i with exactly one occurence of any other character in between."
      ],
      "metadata": {
        "id": "QqMmXnbTD_Do"
      }
    },
    {
      "cell_type": "code",
      "source": [
        "import re\n",
        "def check_aei(text):\n",
        "  result = re.search(r\"a.e.i\",text)\n",
        "  return result !=None\n",
        "print(check_aei(\"academic\"))"
      ],
      "metadata": {
        "colab": {
          "base_uri": "https://localhost:8080/"
        },
        "id": "Yx5kOMU_D8oq",
        "outputId": "1ba1bd8e-6e17-43f2-c948-4ea71d63ab1c"
      },
      "execution_count": null,
      "outputs": [
        {
          "output_type": "stream",
          "name": "stdout",
          "text": [
            "True\n"
          ]
        }
      ]
    },
    {
      "cell_type": "code",
      "source": [
        "print(re.search(r\"p.ng\",\"pangaea\", re.IGNORECASE))"
      ],
      "metadata": {
        "colab": {
          "base_uri": "https://localhost:8080/"
        },
        "id": "gfHqtpDOF8e3",
        "outputId": "89cacfba-f5ef-459d-9b9b-864b51d981dc"
      },
      "execution_count": null,
      "outputs": [
        {
          "output_type": "stream",
          "name": "stdout",
          "text": [
            "<re.Match object; span=(0, 4), match='pang'>\n"
          ]
        }
      ]
    },
    {
      "cell_type": "markdown",
      "source": [
        "WildClass and Character Classes."
      ],
      "metadata": {
        "id": "pfOwFtIYGVDM"
      }
    },
    {
      "cell_type": "code",
      "source": [
        "print(re.search(\"[Pp]ython\",\"Python\"))"
      ],
      "metadata": {
        "colab": {
          "base_uri": "https://localhost:8080/"
        },
        "id": "fmVb6AH8GQTX",
        "outputId": "4d93c90f-052f-4543-bafc-0e632cc365be"
      },
      "execution_count": null,
      "outputs": [
        {
          "output_type": "stream",
          "name": "stdout",
          "text": [
            "<re.Match object; span=(0, 6), match='Python'>\n"
          ]
        }
      ]
    },
    {
      "cell_type": "code",
      "source": [
        "print(re.search(r\"[a-z]way\",\"The end of the highway\"))"
      ],
      "metadata": {
        "colab": {
          "base_uri": "https://localhost:8080/"
        },
        "id": "bvyc2xtfGo8d",
        "outputId": "a1bdf907-156e-4918-cd8e-a892b100e700"
      },
      "execution_count": null,
      "outputs": [
        {
          "output_type": "stream",
          "name": "stdout",
          "text": [
            "<re.Match object; span=(18, 22), match='hway'>\n"
          ]
        }
      ]
    },
    {
      "cell_type": "code",
      "source": [
        "print(re.search(r\"[a-z]way\",\"what\"))"
      ],
      "metadata": {
        "colab": {
          "base_uri": "https://localhost:8080/"
        },
        "id": "jVH7yv6aG2Ai",
        "outputId": "1558c221-dc95-4a20-e20f-831a663cf19f"
      },
      "execution_count": null,
      "outputs": [
        {
          "output_type": "stream",
          "name": "stdout",
          "text": [
            "None\n"
          ]
        }
      ]
    },
    {
      "cell_type": "markdown",
      "source": [
        "print(re.search(\"cloud[a-zA-Z0-9]\",\"cloudy\"))"
      ],
      "metadata": {
        "id": "dOU-ttIdHCUN"
      }
    },
    {
      "cell_type": "code",
      "source": [
        "print(re.search(r\"[^a-zA-Z]\",\"This is sentance\"))"
      ],
      "metadata": {
        "colab": {
          "base_uri": "https://localhost:8080/"
        },
        "id": "k2-xwyS5HOwQ",
        "outputId": "36645d42-3a44-4280-9003-98d225be8362"
      },
      "execution_count": null,
      "outputs": [
        {
          "output_type": "stream",
          "name": "stdout",
          "text": [
            "<re.Match object; span=(4, 5), match=' '>\n"
          ]
        }
      ]
    },
    {
      "cell_type": "code",
      "source": [
        "print(re.search(r\"[^a-zA-Z ]\", \"This is the sentance with space\"))"
      ],
      "metadata": {
        "colab": {
          "base_uri": "https://localhost:8080/"
        },
        "id": "B7eH3S8eHm__",
        "outputId": "9a2caad3-24db-414d-b899-695e4a0fe28f"
      },
      "execution_count": null,
      "outputs": [
        {
          "output_type": "stream",
          "name": "stdout",
          "text": [
            "None\n"
          ]
        }
      ]
    },
    {
      "cell_type": "markdown",
      "source": [
        "Check if the text passed contain punctuations symbol: commas, periods, colons, semicolons, question mark and exclamation point. "
      ],
      "metadata": {
        "id": "5BwYE7T4H4Wc"
      }
    },
    {
      "cell_type": "code",
      "source": [
        "import re\n",
        "def check_punctuation(text):\n",
        "  result = re.search(r\"[,.:?!]\",text)\n",
        "  return result !=None\n",
        "print(check_punctuation(\"This is a sentance .\"))"
      ],
      "metadata": {
        "colab": {
          "base_uri": "https://localhost:8080/"
        },
        "id": "TQI89qo0H276",
        "outputId": "72946307-9a96-400f-ce72-8f8efe521fcc"
      },
      "execution_count": null,
      "outputs": [
        {
          "output_type": "stream",
          "name": "stdout",
          "text": [
            "True\n"
          ]
        }
      ]
    },
    {
      "cell_type": "code",
      "source": [
        "print(re.search(r\"cat|dog\", \"I like cat\"))"
      ],
      "metadata": {
        "colab": {
          "base_uri": "https://localhost:8080/"
        },
        "id": "TvQ326liJKoe",
        "outputId": "69ae8905-9548-4cfa-b047-8dfe738c50c5"
      },
      "execution_count": null,
      "outputs": [
        {
          "output_type": "stream",
          "name": "stdout",
          "text": [
            "<re.Match object; span=(7, 10), match='cat'>\n"
          ]
        }
      ]
    },
    {
      "cell_type": "code",
      "source": [
        "print(re.findall(r\"cat|dog\",\"I like both cat and dog\"))"
      ],
      "metadata": {
        "colab": {
          "base_uri": "https://localhost:8080/"
        },
        "id": "pCxjjxddIhBq",
        "outputId": "2f8378fd-11d0-4d07-906b-d65fb9d63870"
      },
      "execution_count": null,
      "outputs": [
        {
          "output_type": "stream",
          "name": "stdout",
          "text": [
            "['cat', 'dog']\n"
          ]
        }
      ]
    },
    {
      "cell_type": "markdown",
      "source": [
        "Repeated Matches"
      ],
      "metadata": {
        "id": "TKFxXmPfJm0l"
      }
    },
    {
      "cell_type": "code",
      "source": [
        "print(re.search(r\"py.*n\", \"Python programming\"))"
      ],
      "metadata": {
        "colab": {
          "base_uri": "https://localhost:8080/"
        },
        "id": "Hcg9ZwAoJjVk",
        "outputId": "56eda541-b50a-4255-a21b-dce7fa2e2efc"
      },
      "execution_count": null,
      "outputs": [
        {
          "output_type": "stream",
          "name": "stdout",
          "text": [
            "None\n"
          ]
        }
      ]
    },
    {
      "cell_type": "markdown",
      "source": [
        "The repeating_letter_a function checks if the passed include a letter \"a\" (lowercase or uppercase) at least twice. For example, repeating_letter_a (\"banana\") is true."
      ],
      "metadata": {
        "id": "hOoB-1tnJ1Qd"
      }
    },
    {
      "cell_type": "code",
      "source": [
        "import re\n",
        "def repeating_letter_a(text):\n",
        "  result= re.search(r\"[Aa].*[Aa]+\", text)\n",
        "  return result !=None\n",
        "print(repeating_letter_a(\"banana\"))"
      ],
      "metadata": {
        "colab": {
          "base_uri": "https://localhost:8080/"
        },
        "id": "uY9EhlLxJzoo",
        "outputId": "df840924-1595-4225-da03-311d7967e08d"
      },
      "execution_count": null,
      "outputs": [
        {
          "output_type": "stream",
          "name": "stdout",
          "text": [
            "True\n"
          ]
        }
      ]
    },
    {
      "cell_type": "code",
      "source": [
        "print(re.search(r\"p?each\",\"To each\"))"
      ],
      "metadata": {
        "colab": {
          "base_uri": "https://localhost:8080/"
        },
        "id": "iWW0--_QLYk8",
        "outputId": "e6ac1400-3553-44ea-c3b1-97ca12658136"
      },
      "execution_count": null,
      "outputs": [
        {
          "output_type": "stream",
          "name": "stdout",
          "text": [
            "<re.Match object; span=(3, 7), match='each'>\n"
          ]
        }
      ]
    },
    {
      "cell_type": "code",
      "source": [
        "print(re.search(r\"\\.com\",\"mydomain.com\"))"
      ],
      "metadata": {
        "colab": {
          "base_uri": "https://localhost:8080/"
        },
        "id": "iHwo0NlWLpZc",
        "outputId": "607ba149-54c9-485d-a949-7514d9debd01"
      },
      "execution_count": null,
      "outputs": [
        {
          "output_type": "stream",
          "name": "stdout",
          "text": [
            "<re.Match object; span=(8, 12), match='.com'>\n"
          ]
        }
      ]
    },
    {
      "cell_type": "markdown",
      "source": [
        "\\w matches letters , number and underscore"
      ],
      "metadata": {
        "id": "T5payQj3L7pk"
      }
    },
    {
      "cell_type": "code",
      "source": [
        "print(re.search(r\"\\w*\",\"An_one\"))"
      ],
      "metadata": {
        "colab": {
          "base_uri": "https://localhost:8080/"
        },
        "id": "gzFWAcJfLyuK",
        "outputId": "2269443c-c3fc-4091-82cb-da1e0a990969"
      },
      "execution_count": null,
      "outputs": [
        {
          "output_type": "stream",
          "name": "stdout",
          "text": [
            "<re.Match object; span=(0, 6), match='An_one'>\n"
          ]
        }
      ]
    },
    {
      "cell_type": "code",
      "source": [
        "def check_character_group(text):\n",
        "  result= re.search(r\"\\w\",text)\n",
        "  return result != None\n",
        "print(check_character_group(\"one\"))"
      ],
      "metadata": {
        "colab": {
          "base_uri": "https://localhost:8080/"
        },
        "id": "TQosqSMkMCKO",
        "outputId": "9ffd9f07-4398-4457-daec-dd02f6c1cfde"
      },
      "execution_count": null,
      "outputs": [
        {
          "output_type": "stream",
          "name": "stdout",
          "text": [
            "True\n"
          ]
        }
      ]
    },
    {
      "cell_type": "code",
      "source": [
        "print(re.search(r\"^A.*a$\",\"Australia\"))"
      ],
      "metadata": {
        "colab": {
          "base_uri": "https://localhost:8080/"
        },
        "id": "mSP02CX-MaJ9",
        "outputId": "d725c9af-96f5-49b1-d343-5c3d2790b3c4"
      },
      "execution_count": null,
      "outputs": [
        {
          "output_type": "stream",
          "name": "stdout",
          "text": [
            "<re.Match object; span=(0, 9), match='Australia'>\n"
          ]
        }
      ]
    }
  ]
}