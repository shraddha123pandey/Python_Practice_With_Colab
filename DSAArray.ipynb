{
  "nbformat": 4,
  "nbformat_minor": 0,
  "metadata": {
    "colab": {
      "provenance": [],
      "collapsed_sections": [],
      "authorship_tag": "ABX9TyOORZiWyjBD7ggPg/m1cydX",
      "include_colab_link": true
    },
    "kernelspec": {
      "name": "python3",
      "display_name": "Python 3"
    },
    "language_info": {
      "name": "python"
    }
  },
  "cells": [
    {
      "cell_type": "markdown",
      "metadata": {
        "id": "view-in-github",
        "colab_type": "text"
      },
      "source": [
        "<a href=\"https://colab.research.google.com/github/shraddhapandey100/Python_Practice_With_Colab/blob/paneltime/DSAArray.ipynb\" target=\"_parent\"><img src=\"https://colab.research.google.com/assets/colab-badge.svg\" alt=\"Open In Colab\"/></a>"
      ]
    },
    {
      "cell_type": "markdown",
      "source": [
        "**Problem 1:** Given a signed 32-bit integer x, return x with its digits reversed. If reversing x causes the value to go outside the signed 32-bit integer range [-231, 231 - 1], then return 0.\n",
        "\n",
        "Assume the environment does not allow you to store 64-bit integers (signed or unsigned).\n",
        "\n",
        "**Constraints:**\n",
        "\n",
        "-231 <= x <= 231 - 1\n",
        "\n"
      ],
      "metadata": {
        "id": "UbQETQKvbR9i"
      }
    },
    {
      "cell_type": "code",
      "source": [
        "class Solution:\n",
        "    def reverse(self, x: int) -> int:\n",
        "        if x>=2**31-1 or x<=-2**31:\n",
        "            return 0\n",
        "        else:\n",
        "            num = str(x)\n",
        "            if(x>=0):\n",
        "                reverse_num = num[::-1]\n",
        "            else:\n",
        "                temp = num[1:]\n",
        "                temp1= temp[::-1]\n",
        "                reverse_num = \"-\"+temp1\n",
        "        if int(reverse_num)>= 2**31-1 or int(reverse_num)<=-2**31: return 0\n",
        "        else: return int(reverse_num)\n",
        "                \n",
        "       \n",
        "        \n",
        "\n",
        "       \n",
        "                \n",
        "        \n",
        "        "
      ],
      "metadata": {
        "id": "i-QTyLr4bFS9"
      },
      "execution_count": null,
      "outputs": []
    },
    {
      "cell_type": "markdown",
      "source": [
        "**Problem 2: **Given an array of integers nums and an interger target , return indices of two numbers such that they add up to target.\n",
        "\n",
        "\n",
        "**Constraints:**\n",
        "\n",
        "2<= nums.length <- 10^4 \n",
        "-10^9 <= num[i] <= 10^9\n",
        "-10^9 <= target <= 10^9\n",
        "\n",
        "\n"
      ],
      "metadata": {
        "id": "7Tm02dsFNos-"
      }
    },
    {
      "cell_type": "markdown",
      "source": [
        "**Complexity Analysis**: Time complexity: O(n^2).\n",
        "**Space complexity**: O(1)"
      ],
      "metadata": {
        "id": "fVDfPbFqRXkB"
      }
    },
    {
      "cell_type": "code",
      "source": [
        "from typing import List\n",
        "class Solution:\n",
        "    def twoSum(self, nums: List[int], target: int) -> List[int]:\n",
        "        for i in range(len(nums)):\n",
        "            for j in range(i+1, len(nums)):\n",
        "                if nums[j]==target-nums[i]:\n",
        "                    return [i,j]\n",
        "                "
      ],
      "metadata": {
        "id": "Obvd8CBAO5Mi"
      },
      "execution_count": null,
      "outputs": []
    },
    {
      "cell_type": "markdown",
      "source": [
        "**Problem 3:**\n",
        "** Palindrome Number:**Given an integer x, return true if x is palindrome integer.\n",
        "An integer is a palindrome when it reads the same backward as forward.\n",
        "For example, 121 is a palindrome while 123 is not.\n",
        "\n",
        "**Example 1:**\n",
        "Input: x = 121\n",
        "Output: true\n",
        "Explanation: 121 reads as 121 from left to right and from right to left.\n",
        "\n",
        "**Example 2:**\n",
        "Input: x = -121\n",
        "Output: false\n",
        "Explanation: From left to right, it reads -121. From right to left, it becomes 121-. Therefore it is not a palindrome.\n",
        "\n",
        "**Example 3:**\n",
        "Input: x = 10\n",
        "Output: false\n",
        "Explanation: Reads 01 from right to left. Therefore it is not a palindrome.\n",
        " \n",
        "**Constraints:**\n",
        "-231 <= x <= 231 - 1"
      ],
      "metadata": {
        "id": "uS6jbSfsKa-k"
      }
    },
    {
      "cell_type": "code",
      "source": [
        "class Solution:\n",
        "  def isPalindrom(self, x:int)->bool:\n",
        "    if(x>0):\n",
        "      temp= x\n",
        "      reverse_int_elements=[]\n",
        "      while(temp>0):\n",
        "        digit= temp%10\n",
        "        reverse_int_elements.append(digit)\n",
        "        temp = temp//10\n",
        "      orginal_int_elements= reverse_int_elements[::-1]\n",
        "      return orginal_int_elements==reverse_int_elements\n",
        "    elif(x==0):\n",
        "      return True\n",
        "    else:\n",
        "      return False"
      ],
      "metadata": {
        "id": "WigJavUwL1pp"
      },
      "execution_count": null,
      "outputs": []
    },
    {
      "cell_type": "markdown",
      "source": [
        "**Problem 4:**Given a sorted array of distinct integers and a target value, return the index if the target is found. If not, return the index where it would be if it were inserted in order.\n",
        "You must write an algorithm with O(log n) runtime complexity.\n",
        "\n",
        "**Constraints:**\n",
        "\n",
        "1 <= nums.length <= 104\n",
        "-104 <= nums[i] <= 104\n",
        "nums contains distinct values sorted in ascending order.\n",
        "-104 <= target <= 104"
      ],
      "metadata": {
        "id": "SYeemvbJ-SE9"
      }
    },
    {
      "cell_type": "code",
      "source": [
        "from typing import List\n",
        "# Naive approach\n",
        "class Solution:\n",
        "    def searchInsert(self, nums: List[int], target: int) -> int:\n",
        "        for i in range(len(nums)):\n",
        "            if nums[i]==target:\n",
        "                return i\n",
        "            elif nums[i]>target:\n",
        "                return i\n",
        "        return len(nums)"
      ],
      "metadata": {
        "id": "beLYoIZt-wmM"
      },
      "execution_count": null,
      "outputs": []
    },
    {
      "cell_type": "code",
      "source": [
        "# Efficient Approach: To optimize the above approach, the idea is to use Binary Search. Follow the steps below to solve the problem: \n",
        "\n",
        "# Set start and end as 0 and N – 1, where the start and end variables denote the lower and upper bound of the search space respectively.\n",
        "# Calculate mid = (start + end) / 2.\n",
        "# If arr[mid] is found to be equal to K, print mid as the required answer.\n",
        "# If arr[mid] exceeds K, set high = mid – 1 Otherwise, set  low = mid + 1. \n",
        " \n",
        "# Function to find insert position of K\n",
        "def find_index(arr, n, B):\n",
        " \n",
        "    # Lower and upper bounds\n",
        "    start = 0\n",
        "    end = n - 1\n",
        " \n",
        "    # Traverse the search space\n",
        "    while start<= end:\n",
        " \n",
        "        mid =(start + end)//2\n",
        " \n",
        "        if arr[mid] == K:\n",
        "            return mid\n",
        " \n",
        "        elif arr[mid] < K:\n",
        "            start = mid + 1\n",
        "        else:\n",
        "            end = mid-1\n",
        " \n",
        "    # Return the insert position\n",
        "    return end + 1\n",
        " \n",
        "# Driver Code\n",
        "arr = [1, 3, 5, 6]\n",
        "n = len(arr)\n",
        "K = 7\n",
        "print(find_index(arr, n, K))\n"
      ],
      "metadata": {
        "colab": {
          "base_uri": "https://localhost:8080/"
        },
        "id": "Nv5ojGdk_Cub",
        "outputId": "e04ccf83-bb47-4c6f-88a8-64de50c91743"
      },
      "execution_count": null,
      "outputs": [
        {
          "output_type": "stream",
          "name": "stdout",
          "text": [
            "4\n"
          ]
        }
      ]
    },
    {
      "cell_type": "markdown",
      "source": [
        "**Problem 5**:You are given a large integer represented as an integer array digits, where each digits[i] is the ith digit of the integer. The digits are ordered from most significant to least significant in left-to-right order. The large integer does not contain any leading 0's.\n",
        "\n",
        "Increment the large integer by one and return the resulting array of digits.\n",
        "\n",
        "**Example 1:**\n",
        "Input: digits = [1,2,3]\n",
        "Output: [1,2,4]\n",
        "Explanation: The array represents the integer 123.\n",
        "Incrementing by one gives 123 + 1 = 124.\n",
        "Thus, the result should be [1,2,4].\n",
        "\n",
        "**Constraints:**\n",
        "\n",
        "1 <= digits.length <= 100\n",
        "0 <= digits[i] <= 9\n",
        "digits does not contain any leading 0's."
      ],
      "metadata": {
        "id": "-1UVsxtMiTxq"
      }
    },
    {
      "cell_type": "code",
      "source": [
        "class Solution:\n",
        "    def plusOne(self, digits: List[int]) -> List[int]:\n",
        "        list_ = []\n",
        "       # initialize an index (digit of units)\n",
        "        index= len(digits)-1\n",
        "        while (index >=0 and digits[index]==9):\n",
        "            digits[index]=0\n",
        "            index-=1\n",
        "        # if index <0 (if all digits were 9)\n",
        "        if(index<0):\n",
        "            # insert an one at the beginning of the vector\n",
        "            digits.insert(0,1)\n",
        "            \n",
        "        # else increment the value at [index]\n",
        "        else:\n",
        "            digits[index]+=1\n",
        "            \n",
        "        for i in digits:\n",
        "            list_.append(i)\n",
        "        return list_"
      ],
      "metadata": {
        "id": "s-FaZ5wyilsv"
      },
      "execution_count": null,
      "outputs": []
    },
    {
      "cell_type": "markdown",
      "source": [
        "**Problem-5:** Find the maximum and the minimum elements in the array."
      ],
      "metadata": {
        "id": "2rFy0vkvAIa6"
      }
    },
    {
      "cell_type": "code",
      "source": [
        "class pair:\n",
        "    def __init__(self):\n",
        "        self.min = 0\n",
        "        self.max = 0\n",
        " \n",
        "def getMinMax(arr: list, n: int) -> pair:\n",
        "    minmax = pair()\n",
        " \n",
        "    # If there is only one element then return it as min and max both\n",
        "    if n == 1:\n",
        "        minmax.max = arr[0]\n",
        "        minmax.min = arr[0]\n",
        "        return minmax\n",
        " \n",
        "    # If there are more than one elements, then initialize min\n",
        "    # and max\n",
        "    if arr[0] > arr[1]:\n",
        "        minmax.max = arr[0]\n",
        "        minmax.min = arr[1]\n",
        "    else:\n",
        "        minmax.max = arr[1]\n",
        "        minmax.min = arr[0]\n",
        " \n",
        "    for i in range(2, n):\n",
        "        if arr[i] > minmax.max:\n",
        "            minmax.max = arr[i]\n",
        "        elif arr[i] < minmax.min:\n",
        "            minmax.min = arr[i]\n",
        " \n",
        "    return minmax\n",
        "  \n",
        "arr= [1000, 23, 12]\n",
        "arr_size= len(arr)\n",
        "minmax= getMinMax(arr, arr_size)\n",
        "print(\"Minimum element is\", minmax.min)\n",
        "print(\"Maximum element is\", minmax.max)\n",
        "\n",
        "  "
      ],
      "metadata": {
        "colab": {
          "base_uri": "https://localhost:8080/"
        },
        "id": "KwuKYONAAHte",
        "outputId": "9d85a01a-9fb7-452e-d1ab-9800e3e25f50"
      },
      "execution_count": null,
      "outputs": [
        {
          "output_type": "stream",
          "name": "stdout",
          "text": [
            "Minimum element is 12\n",
            "Maximum element is 1000\n"
          ]
        }
      ]
    },
    {
      "cell_type": "markdown",
      "source": [
        "**Problem-6:** Cyclically rotate an array by one.\n",
        "Given an array, rotate the array by one position in clock-wise direction."
      ],
      "metadata": {
        "id": "Txv5Hx46Y6zw"
      }
    },
    {
      "cell_type": "code",
      "source": [
        "# Python3 code for program to cyclically rotate an array by method for rotation.\n",
        "def rotate(arr, n):\n",
        "  x = arr[n-1]\n",
        "  for i in range(n-1, 0, 1):\n",
        "    arr[i]= arr[n-1]\n",
        "\n",
        "  arr[0]=x\n",
        "\n",
        "# Driver Function \n",
        "arr= [1,2,3,4,5]\n",
        "n= len(arr)\n",
        "print(\"Given array is:\")\n",
        "for i in range(0, n):\n",
        "  print(arr[i], end=' ')\n",
        "\n",
        "rotate(arr, n)\n",
        "print(\"\\nRotate Array is:\")\n",
        "\n",
        "for i in range(0,n):\n",
        "  print(arr[i],end=' ')\n",
        "\n",
        "# Alternate Rotate Function\n",
        "def rotate1(arr,n):\n",
        "  i=0\n",
        "  j= n-1\n",
        "  while i!=j:\n",
        "    arr[i],arr[j]= arr[j],arr[i]\n",
        "    i= i+1\n",
        "\n",
        "  pass\n",
        "\n",
        "\n"
      ],
      "metadata": {
        "id": "_N5LVO5UY50Y",
        "colab": {
          "base_uri": "https://localhost:8080/"
        },
        "outputId": "635e69d3-3e08-41bc-eb8a-8c7a1603f068"
      },
      "execution_count": null,
      "outputs": [
        {
          "output_type": "stream",
          "name": "stdout",
          "text": [
            "Given array is:\n",
            "1 2 3 4 5 \n",
            "Rotate Array is:\n",
            "5 2 3 4 5 "
          ]
        }
      ]
    }
  ]
}