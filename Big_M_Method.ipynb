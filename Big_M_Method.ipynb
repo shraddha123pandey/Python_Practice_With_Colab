{
  "nbformat": 4,
  "nbformat_minor": 0,
  "metadata": {
    "colab": {
      "provenance": [],
      "authorship_tag": "ABX9TyPskqfKTZpNHTNb9j1rUfIq",
      "include_colab_link": true
    },
    "kernelspec": {
      "name": "python3",
      "display_name": "Python 3"
    },
    "language_info": {
      "name": "python"
    }
  },
  "cells": [
    {
      "cell_type": "markdown",
      "metadata": {
        "id": "view-in-github",
        "colab_type": "text"
      },
      "source": [
        "<a href=\"https://colab.research.google.com/github/shraddhapandey100/Python_Practice_With_Colab/blob/paneltime/Big_M_Method.ipynb\" target=\"_parent\"><img src=\"https://colab.research.google.com/assets/colab-badge.svg\" alt=\"Open In Colab\"/></a>"
      ]
    },
    {
      "cell_type": "markdown",
      "source": [
        "\n",
        "1)Function that generates a matrix of correct size.\n",
        "2) Functions that check if the  currentsolution is optimal.\n",
        "3.)Function  that determines where a pivot element is located.\n",
        "4.) Function that pivots about an element.\n",
        "5.)Function  to receive string input and insert float variable into matrix.\n",
        "6) Function to maximize and minimize the problem.\n"
      ],
      "metadata": {
        "id": "FULWTMBv8DD5"
      }
    },
    {
      "cell_type": "markdown",
      "source": [
        "First, we’ll generate a numpy array with enough rows for each constraint plus the objective function and enough columns for the variables, slack variables, M (max/min) and the corresponding value."
      ],
      "metadata": {
        "id": "oEdGrHO3ysB8"
      }
    },
    {
      "cell_type": "code",
      "execution_count": null,
      "metadata": {
        "id": "QZLZFFTGgBRT"
      },
      "outputs": [],
      "source": [
        "import numpy as np \n",
        "def gen_matrix(var,cons):    \n",
        "    tab = np.zeros((cons+1, var+cons+2))    \n",
        "    return tab"
      ]
    },
    {
      "cell_type": "markdown",
      "source": [
        "Next, we’ll check to see if 1+ pivots are required due to a negative element in the furthest right column, excluding the bottom value, of course"
      ],
      "metadata": {
        "id": "pK0uZ9Im0Ua6"
      }
    },
    {
      "cell_type": "code",
      "source": [
        "def next_round_r(table):    \n",
        "    m = min(table[:-1,-1])    \n",
        "    if m>= 0:        \n",
        "        return False    \n",
        "    else:        \n",
        "        return True"
      ],
      "metadata": {
        "id": "ZsHc4sQlgRhe"
      },
      "execution_count": null,
      "outputs": []
    },
    {
      "cell_type": "markdown",
      "source": [
        "Similarly, we’ll check to see if 1+ pivots are required due to a negative element in the bottom row, excluding the final value."
      ],
      "metadata": {
        "id": "WF6zVlyZ0kmA"
      }
    },
    {
      "cell_type": "code",
      "source": [
        "def next_round(table):    \n",
        "    lr = len(table[:,0])   \n",
        "    m = min(table[lr-1,:-1])    \n",
        "    if m>=0:\n",
        "        return False\n",
        "    else:\n",
        "        return True"
      ],
      "metadata": {
        "id": "pOVyOS2_gaCB"
      },
      "execution_count": null,
      "outputs": []
    },
    {
      "cell_type": "markdown",
      "source": [
        "And now that we’ve created functions that return booleans, whether or not additional pivots are required, we need to determine where these elements are located. We’ll start with finding negative elements in the furthest right column."
      ],
      "metadata": {
        "id": "Ner7X46t08c8"
      }
    },
    {
      "cell_type": "code",
      "source": [
        "def find_neg_r(table):\n",
        "    lc = len(table[0,:])\n",
        "    m = min(table[:-1,lc-1])\n",
        "    if m<=0:        \n",
        "        n = np.where(table[:-1,lc-1] == m)[0][0]\n",
        "    else:\n",
        "        n = None\n",
        "    return n"
      ],
      "metadata": {
        "id": "nAi0v04fggge"
      },
      "execution_count": null,
      "outputs": []
    },
    {
      "cell_type": "markdown",
      "source": [
        "Similarly, we need to locate negative elements in the bottom row"
      ],
      "metadata": {
        "id": "FoEBfOfL1BGP"
      }
    },
    {
      "cell_type": "code",
      "source": [
        "def find_neg(table):\n",
        "    lr = len(table[:,0])\n",
        "    m = min(table[lr-1,:-1])\n",
        "    if m<=0:\n",
        "        n = np.where(table[lr-1,:-1] == m)[0][0]\n",
        "    else:\n",
        "        n = None\n",
        "    return n"
      ],
      "metadata": {
        "id": "8UI3s2k4giNm"
      },
      "execution_count": null,
      "outputs": []
    },
    {
      "cell_type": "markdown",
      "source": [
        "Quick recap, we’ve identified the column and row indexes, respectively, for negative elements in the last column, last row. But we need to take it one step further and find the pivot element corresponding to these values."
      ],
      "metadata": {
        "id": "JtMZ9l6d1J8T"
      }
    },
    {
      "cell_type": "code",
      "source": [
        "def loc_piv_r(table):\n",
        "    total = []        \n",
        "    r = find_neg_r(table)\n",
        "    row = table[r,:-1]\n",
        "    m = min(row)\n",
        "    c = np.where(row == m)[0][0]\n",
        "    col = table[:-1,c]\n",
        "    for i, b in zip(col,table[:-1,-1]):\n",
        "        if i**2>0 and b/i>0:\n",
        "            total.append(b/i)\n",
        "        else:                \n",
        "            total.append(10000)\n",
        "    index = total.index(min(total))        \n",
        "    return [index,c]\n",
        "    "
      ],
      "metadata": {
        "id": "HmN7Q7x4gn8J"
      },
      "execution_count": null,
      "outputs": []
    },
    {
      "cell_type": "markdown",
      "source": [
        "we’ll perform a very similar task; we need to find a pivot element corresponding to a negative element in the bottom row."
      ],
      "metadata": {
        "id": "_yT-CJIT1S-S"
      }
    },
    {
      "cell_type": "code",
      "source": [
        "def loc_piv(table):\n",
        "    if next_round(table):\n",
        "        total = []\n",
        "        n = find_neg(table)\n",
        "        for i,b in zip(table[:-1,n],table[:-1,-1]):\n",
        "            if b/i >0 and i**2>0:\n",
        "                total.append(b/i)\n",
        "            else:\n",
        "                total.append(10000)\n",
        "        index = total.index(min(total))\n",
        "        return [index,n]"
      ],
      "metadata": {
        "id": "7kefOcH4gzDN"
      },
      "execution_count": null,
      "outputs": []
    },
    {
      "cell_type": "markdown",
      "source": [
        "Now, let’s finally build the pivot function! What we need it to do is pivot about an element to remove the negative entry in the final column or row and return the updated table."
      ],
      "metadata": {
        "id": "AB8UDfm_1ou5"
      }
    },
    {
      "cell_type": "code",
      "source": [
        "def pivot(row,col,table):\n",
        "    lr = len(table[:,0])\n",
        "    lc = len(table[0,:])\n",
        "    t = np.zeros((lr,lc))\n",
        "    pr = table[row,:]\n",
        "    if table[row,col]**2>0:\n",
        "        e = 1/table[row,col]\n",
        "        r = pr*e\n",
        "        for i in range(len(table[:,col])):\n",
        "            k = table[i,:]\n",
        "            c = table[i,col]\n",
        "            if list(k) == list(pr):\n",
        "                continue\n",
        "            else:\n",
        "                t[i,:] = list(k-r*c)\n",
        "        t[row,:] = list(r)\n",
        "        return t\n",
        "    else:\n",
        "        print('Cannot pivot on this element.')"
      ],
      "metadata": {
        "id": "JhcyIQCphKJh"
      },
      "execution_count": null,
      "outputs": []
    },
    {
      "cell_type": "markdown",
      "source": [
        "With that done, now we need a means for the user to input a string, which will be converted into float variables. Our function will receive inputs such as (‘1,3,L,5’); this means 1(x1) + 3(x2) ≤ 5. Alternatively, ‘G’ could be used to mean a ≥ inequality."
      ],
      "metadata": {
        "id": "Uc1U-vdz115B"
      }
    },
    {
      "cell_type": "code",
      "source": [
        "def convert(eq):\n",
        "    eq = eq.split(',')\n",
        "    if 'G' in eq:\n",
        "        g = eq.index('G')\n",
        "        del eq[g]\n",
        "        eq = [float(i)*-1 for i in eq]\n",
        "        return eq\n",
        "    if 'L' in eq:\n",
        "        l = eq.index('L')\n",
        "        del eq[l]\n",
        "        eq = [float(i) for i in eq]\n",
        "        return eq"
      ],
      "metadata": {
        "id": "0oOGiu33hRLR"
      },
      "execution_count": null,
      "outputs": []
    },
    {
      "cell_type": "markdown",
      "source": [
        "The following is necessary to solve minimization problems. In maximization problems, M is the opposite of the objective function."
      ],
      "metadata": {
        "id": "dSizpYVK15ch"
      }
    },
    {
      "cell_type": "code",
      "source": [
        "def convert_min(table):\n",
        "    table[-1,:-2] = [-1*i for i in table[-1,:-2]]\n",
        "    table[-1,-1] = -1*table[-1,-1]    \n",
        "    return table"
      ],
      "metadata": {
        "id": "YPGkd4ZYhZo0"
      },
      "execution_count": null,
      "outputs": []
    },
    {
      "cell_type": "markdown",
      "source": [
        " we need to build a function that will generate only the required number of variables x1, x2,…xn."
      ],
      "metadata": {
        "id": "suDqYowr2hNQ"
      }
    },
    {
      "cell_type": "code",
      "source": [
        "def gen_var(table):\n",
        "    lc = len(table[0,:])\n",
        "    lr = len(table[:,0])\n",
        "    var = lc - lr -1\n",
        "    v = []\n",
        "    for i in range(var):\n",
        "        v.append('x'+str(i+1))\n",
        "    return v"
      ],
      "metadata": {
        "id": "Q2dwlvighmHw"
      },
      "execution_count": null,
      "outputs": []
    },
    {
      "cell_type": "markdown",
      "source": [
        "we need a means to check if 1+ constraints can be added to the matrix, meaning there are at least two rows of all 0 elements. If this condition is not satisfied, our program will not allow the user to add additional constraints."
      ],
      "metadata": {
        "id": "EZ5iiYKZ2yXU"
      }
    },
    {
      "cell_type": "code",
      "source": [
        "def add_cons(table):\n",
        "    lr = len(table[:,0])\n",
        "    empty = []\n",
        "    for i in range(lr):\n",
        "        total = 0\n",
        "        for j in table[i,:]:                       \n",
        "            total += j**2\n",
        "        if total == 0: \n",
        "            empty.append(total)\n",
        "    if len(empty)>1:\n",
        "        return True\n",
        "    else:\n",
        "        return False"
      ],
      "metadata": {
        "id": "B-wdQZ-whrEP"
      },
      "execution_count": null,
      "outputs": []
    },
    {
      "cell_type": "markdown",
      "source": [
        "The function will take the tableau as an argument as well as the equation, which will be converted using the previous function and will be inserted into the tableau, appropriately."
      ],
      "metadata": {
        "id": "zPrW3gjs3Ki3"
      }
    },
    {
      "cell_type": "code",
      "source": [
        "def constrain(table,eq):\n",
        "    if add_cons(table) == True:\n",
        "        lc = len(table[0,:])\n",
        "        lr = len(table[:,0])\n",
        "        var = lc - lr -1      \n",
        "        j = 0\n",
        "        while j < lr:            \n",
        "            row_check = table[j,:]\n",
        "            total = 0\n",
        "            for i in row_check:\n",
        "                total += float(i**2)\n",
        "            if total == 0:                \n",
        "                row = row_check\n",
        "                break\n",
        "            j +=1\n",
        "        eq = convert(eq)\n",
        "        i = 0\n",
        "        while i<len(eq)-1:\n",
        "            row[i] = eq[i]\n",
        "            i +=1        \n",
        "        row[-1] = eq[-1]\n",
        "        row[var+j] = 1    \n",
        "    else:\n",
        "        print('Cannot add another constraint.')"
      ],
      "metadata": {
        "id": "4lOiValvhtyt"
      },
      "execution_count": null,
      "outputs": []
    },
    {
      "cell_type": "markdown",
      "source": [
        "Similarly, we need a function that can checks to see if the objective function can be added. There’s numerous ways to approach this problem but my approach has been to add the objective function last, after all constraints have been entered, as it is the final row of the tableau."
      ],
      "metadata": {
        "id": "oLGrl8cn3NN6"
      }
    },
    {
      "cell_type": "code",
      "source": [
        "def add_obj(table):\n",
        "    lr = len(table[:,0])\n",
        "    empty = []\n",
        "    for i in range(lr):\n",
        "        total = 0        \n",
        "        for j in table[i,:]:\n",
        "            total += j**2\n",
        "        if total == 0:\n",
        "            empty.append(total)    \n",
        "    if len(empty)==1:\n",
        "        return True\n",
        "    else:\n",
        "        return False"
      ],
      "metadata": {
        "id": "EpLdMCyjh5Gc"
      },
      "execution_count": null,
      "outputs": []
    },
    {
      "cell_type": "markdown",
      "source": [
        "Similar to the constrain() function we built, we also need a function to add the objective function to the tableau, given that it satisfies add_obj()."
      ],
      "metadata": {
        "id": "CDKTIOfH3YRC"
      }
    },
    {
      "cell_type": "code",
      "source": [
        "def obj(table,eq):\n",
        "    if add_obj(table)==True:\n",
        "        eq = [float(i) for i in eq.split(',')]\n",
        "        lr = len(table[:,0])\n",
        "        row = table[lr-1,:]\n",
        "        i = 0        \n",
        "        while i<len(eq)-1:\n",
        "            row[i] = eq[i]*-1\n",
        "            i +=1\n",
        "        row[-2] = 1\n",
        "        row[-1] = eq[-1]\n",
        "    else:\n",
        "        print('You must finish adding constraints before the objective function can be added.')"
      ],
      "metadata": {
        "id": "muNGEdyMh8UK"
      },
      "execution_count": null,
      "outputs": []
    },
    {
      "cell_type": "markdown",
      "source": [
        "it’s finally time to put all the building blocks together and create the maximization and minimization functions! These functions will appear very similar, both will use while loops to determine if 1+ pivot is required, locate the pivot element, pivot about it, and continue the process until all negative elements have been removed from the last column and row. Then variables will be generated for x1 through xn and assigned values according to their positions in the tableau. Additionally, max will be assigned its appropriate value. Lastly, the function will return the max and variables in dictionary form."
      ],
      "metadata": {
        "id": "uA8XLlSV30kF"
      }
    },
    {
      "cell_type": "code",
      "source": [
        "def maxz(table):\n",
        "    while next_round_r(table)==True:\n",
        "        table = pivot(loc_piv_r(table)[0],loc_piv_r(table)[1],table)\n",
        "    while next_round(table)==True:\n",
        "        table = pivot(loc_piv(table)[0],loc_piv(table)[1],table)        \n",
        "    lc = len(table[0,:])\n",
        "    lr = len(table[:,0])\n",
        "    var = lc - lr -1\n",
        "    i = 0\n",
        "    val = {}\n",
        "    for i in range(var):\n",
        "        col = table[:,i]\n",
        "        s = sum(col)\n",
        "        m = max(col)\n",
        "        if float(s) == float(m):\n",
        "            loc = np.where(col == m)[0][0]            \n",
        "            val[gen_var(table)[i]] = table[loc,-1]\n",
        "        else:\n",
        "            val[gen_var(table)[i]] = 0\n",
        "    val['max'] = table[-1,-1]\n",
        "    return val"
      ],
      "metadata": {
        "id": "qqhNZZCLiFNz"
      },
      "execution_count": null,
      "outputs": []
    },
    {
      "cell_type": "markdown",
      "source": [
        "Similarly, we need a minimization function!"
      ],
      "metadata": {
        "id": "3L1pluxO384y"
      }
    },
    {
      "cell_type": "code",
      "source": [
        "def minz(table):\n",
        "    table = convert_min(table)\n",
        "    while next_round_r(table)==True:\n",
        "        table = pivot(loc_piv_r(table)[0],loc_piv_r(table)[1],table)    \n",
        "    while next_round(table)==True:\n",
        "        table = pivot(loc_piv(table)[0],loc_piv(table)[1],table)       \n",
        "    lc = len(table[0,:])\n",
        "    lr = len(table[:,0])\n",
        "    var = lc - lr -1\n",
        "    i = 0\n",
        "    val = {}\n",
        "    for i in range(var):\n",
        "        col = table[:,i]\n",
        "        s = sum(col)\n",
        "        m = max(col)\n",
        "        if float(s) == float(m):\n",
        "            loc = np.where(col == m)[0][0]             \n",
        "            val[gen_var(table)[i]] = table[loc,-1]\n",
        "        else:\n",
        "            val[gen_var(table)[i]] = 0 \n",
        "            val['min'] = table[-1,-1]*-1\n",
        "    return val"
      ],
      "metadata": {
        "id": "zGwWF_1UiNP6"
      },
      "execution_count": null,
      "outputs": []
    },
    {
      "cell_type": "markdown",
      "source": [
        "two operational tests on sample maximization and minimization problems!"
      ],
      "metadata": {
        "id": "msUOiD754FKn"
      }
    },
    {
      "cell_type": "code",
      "source": [
        "if __name__ == \"__main__\":\n",
        "    # m = gen_matrix(2,2)\n",
        "    # constrain(m,'2,-1,G,10')\n",
        "    # constrain(m,'1,1,L,20')\n",
        "    # obj(m,'5,10,0')\n",
        "    # print(maxz(m))     \n",
        "    # m = gen_matrix(2,4)\n",
        "    # constrain(m,'2,5,G,30')\n",
        "    # constrain(m,'-3,5,G,5')\n",
        "    # constrain(m,'8,3,L,85')\n",
        "    # constrain(m,'-9,7,L,42')\n",
        "    # obj(m,'2,7,0')\n",
        "    # print(minz(m))\n",
        "    m = gen_matrix(5,3)\n",
        "    constrain(m,'3,2,1,0,0,G,1500')\n",
        "    constrain(m,'0,-1,0,1,2,G,1000')\n",
        "    constrain(m,'0,0,1,-1,0,G,3000')\n",
        "    \n",
        "    obj(m,'2,0,2,0,2,0')\n",
        "    print(minz(m))\n",
        "\n"
      ],
      "metadata": {
        "colab": {
          "base_uri": "https://localhost:8080/"
        },
        "id": "QDJu9a9OiTYt",
        "outputId": "50bde7ca-d54f-42f3-9fac-630d94c815f3"
      },
      "execution_count": null,
      "outputs": [
        {
          "output_type": "stream",
          "name": "stdout",
          "text": [
            "{'x1': 0, 'min': 7000.0, 'x2': 0, 'x3': 3000.0, 'x4': 0, 'x5': 500.0}\n"
          ]
        }
      ]
    }
  ]
}