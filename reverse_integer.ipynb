{
  "nbformat": 4,
  "nbformat_minor": 0,
  "metadata": {
    "colab": {
      "name": "reverse_integer.ipynb",
      "provenance": [],
      "collapsed_sections": [],
      "authorship_tag": "ABX9TyPkV5nyNBIO56d9DOAvV/Uj",
      "include_colab_link": true
    },
    "kernelspec": {
      "name": "python3",
      "display_name": "Python 3"
    },
    "language_info": {
      "name": "python"
    }
  },
  "cells": [
    {
      "cell_type": "markdown",
      "metadata": {
        "id": "view-in-github",
        "colab_type": "text"
      },
      "source": [
        "<a href=\"https://colab.research.google.com/github/shraddha123pandey/Python_Practice_With_Colab/blob/paneltime/reverse_integer.ipynb\" target=\"_parent\"><img src=\"https://colab.research.google.com/assets/colab-badge.svg\" alt=\"Open In Colab\"/></a>"
      ]
    },
    {
      "cell_type": "markdown",
      "source": [
        "Problem: Given a signed 32-bit integer x, return x with its digits reversed. If reversing x causes the value to go outside the signed 32-bit integer range [-231, 231 - 1], then return 0.\n",
        "\n",
        "Assume the environment does not allow you to store 64-bit integers (signed or unsigned).\n",
        "\n",
        "Constraints:\n",
        "\n",
        "-231 <= x <= 231 - 1\n",
        "\n"
      ],
      "metadata": {
        "id": "UbQETQKvbR9i"
      }
    },
    {
      "cell_type": "code",
      "source": [
        "class Solution:\n",
        "    def reverse(self, x: int) -> int:\n",
        "        if x>=2**31-1 or x<=-2**31:\n",
        "            return 0\n",
        "        else:\n",
        "            num = str(x)\n",
        "            if(x>=0):\n",
        "                reverse_num = num[::-1]\n",
        "            else:\n",
        "                temp = num[1:]\n",
        "                temp1= temp[::-1]\n",
        "                reverse_num = \"-\"+temp1\n",
        "        if int(reverse_num)>= 2**31-1 or int(reverse_num)<=-2**31: return 0\n",
        "        else: return int(reverse_num)\n",
        "                \n",
        "       \n",
        "        \n",
        "\n",
        "       \n",
        "                \n",
        "        \n",
        "        "
      ],
      "metadata": {
        "id": "i-QTyLr4bFS9"
      },
      "execution_count": 1,
      "outputs": []
    }
  ]
}