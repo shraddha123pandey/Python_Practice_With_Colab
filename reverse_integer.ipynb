{
  "nbformat": 4,
  "nbformat_minor": 0,
  "metadata": {
    "colab": {
      "name": "reverse_integer.ipynb",
      "provenance": [],
      "collapsed_sections": [],
      "authorship_tag": "ABX9TyOJ9UOVyJUi9zP6zFQJG9oR",
      "include_colab_link": true
    },
    "kernelspec": {
      "name": "python3",
      "display_name": "Python 3"
    },
    "language_info": {
      "name": "python"
    }
  },
  "cells": [
    {
      "cell_type": "markdown",
      "metadata": {
        "id": "view-in-github",
        "colab_type": "text"
      },
      "source": [
        "<a href=\"https://colab.research.google.com/github/shraddha123pandey/Python_Practice_With_Colab/blob/paneltime/reverse_integer.ipynb\" target=\"_parent\"><img src=\"https://colab.research.google.com/assets/colab-badge.svg\" alt=\"Open In Colab\"/></a>"
      ]
    },
    {
      "cell_type": "markdown",
      "source": [
        "**Problem 1:** Given a signed 32-bit integer x, return x with its digits reversed. If reversing x causes the value to go outside the signed 32-bit integer range [-231, 231 - 1], then return 0.\n",
        "\n",
        "Assume the environment does not allow you to store 64-bit integers (signed or unsigned).\n",
        "\n",
        "**Constraints:**\n",
        "\n",
        "-231 <= x <= 231 - 1\n",
        "\n"
      ],
      "metadata": {
        "id": "UbQETQKvbR9i"
      }
    },
    {
      "cell_type": "code",
      "source": [
        "class Solution:\n",
        "    def reverse(self, x: int) -> int:\n",
        "        if x>=2**31-1 or x<=-2**31:\n",
        "            return 0\n",
        "        else:\n",
        "            num = str(x)\n",
        "            if(x>=0):\n",
        "                reverse_num = num[::-1]\n",
        "            else:\n",
        "                temp = num[1:]\n",
        "                temp1= temp[::-1]\n",
        "                reverse_num = \"-\"+temp1\n",
        "        if int(reverse_num)>= 2**31-1 or int(reverse_num)<=-2**31: return 0\n",
        "        else: return int(reverse_num)\n",
        "                \n",
        "       \n",
        "        \n",
        "\n",
        "       \n",
        "                \n",
        "        \n",
        "        "
      ],
      "metadata": {
        "id": "i-QTyLr4bFS9"
      },
      "execution_count": null,
      "outputs": []
    },
    {
      "cell_type": "markdown",
      "source": [
        "**Problem 2: **Given an array of integers nums and an interger target , return indices of two numbers such that they add up to target.\n",
        "\n",
        "\n",
        "**Constraints:**\n",
        "\n",
        "2<= nums.length <- 10^4 \n",
        "-10^9 <= num[i] <= 10^9\n",
        "-10^9 <= target <= 10^9\n",
        "\n",
        "\n"
      ],
      "metadata": {
        "id": "7Tm02dsFNos-"
      }
    },
    {
      "cell_type": "markdown",
      "source": [
        "**Complexity Analysis**: Time complexity: O(n^2).\n",
        "**Space complexity**: O(1)"
      ],
      "metadata": {
        "id": "fVDfPbFqRXkB"
      }
    },
    {
      "cell_type": "code",
      "source": [
        "from typing import List\n",
        "class Solution:\n",
        "    def twoSum(self, nums: List[int], target: int) -> List[int]:\n",
        "        for i in range(len(nums)):\n",
        "            for j in range(i+1, len(nums)):\n",
        "                if nums[j]==target-nums[i]:\n",
        "                    return [i,j]\n",
        "                "
      ],
      "metadata": {
        "id": "Obvd8CBAO5Mi"
      },
      "execution_count": 2,
      "outputs": []
    }
  ]
}